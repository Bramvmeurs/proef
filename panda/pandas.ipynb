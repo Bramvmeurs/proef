{
 "cells": [
  {
   "cell_type": "markdown",
   "metadata": {
    "deletable": false,
    "editable": false,
    "nbgrader": {
     "cell_type": "markdown",
     "checksum": "423c249182f6a84d5bebe335d1c5fdbd",
     "grade": false,
     "grade_id": "cell-820d7adf0bae8833",
     "locked": true,
     "schema_version": 3,
     "solution": false,
     "task": false
    }
   },
   "source": [
    "# Jupyter Notebook introduction\n",
    "\n",
    "We'll start off with a very brief introduction on the basics of using Jupyter notebooks.\n",
    "\n",
    "### Notebook cells\n",
    "\n",
    "A notebook consists of a sequence of cells. A cell is a multi-line text input field, and its contents can be executed by typing `Shift-Enter`, or by clicking the `Run` button in the toolbar. What exactly this does depends on the type of cell. There are four types of cells: *code cells*, *markdown cells*, *raw cells* and *heading cells*. We will only focus on the first 2; code and markdown. Every cell starts off being a code cell, but its type can be changed by using a dropdown on the toolbar (which will be `Code`, initially).\n",
    "\n",
    "In a code cell you can write *Python* code. When you run that cell (click on it and press `Shift-Enter`) the code in the cell will run, and the output of the cell will be displayed beneath the cell. Lets try out a very simple code cell below"
   ]
  },
  {
   "cell_type": "code",
   "execution_count": 1,
   "metadata": {},
   "outputs": [
    {
     "name": "stdout",
     "output_type": "stream",
     "text": [
      "7\n"
     ]
    }
   ],
   "source": [
    "x = 5\n",
    "x = x + 2\n",
    "print(x)"
   ]
  },
  {
   "cell_type": "markdown",
   "metadata": {
    "deletable": false,
    "editable": false,
    "nbgrader": {
     "cell_type": "markdown",
     "checksum": "038f6709f55aa24c539929d0c59ced68",
     "grade": false,
     "grade_id": "cell-62fb5c57df0f3e7a",
     "locked": true,
     "schema_version": 3,
     "solution": false,
     "task": false
    }
   },
   "source": [
    "This produces the output you might expect, the exact the same result as executing that bit of *Python* code in a terminal. You can modify the contents of the code cell and run it again with `Shift-Enter` to see how the output changes.\n",
    "\n",
    "Global variables are shared between cells. This means we can still use variables or functions from the first cell in a second cell, like so"
   ]
  },
  {
   "cell_type": "code",
   "execution_count": 2,
   "metadata": {},
   "outputs": [
    {
     "name": "stdout",
     "output_type": "stream",
     "text": [
      "14\n"
     ]
    }
   ],
   "source": [
    "y = 2 * x\n",
    "print(y)"
   ]
  },
  {
   "cell_type": "markdown",
   "metadata": {
    "deletable": false,
    "editable": false,
    "nbgrader": {
     "cell_type": "markdown",
     "checksum": "87d9af9bdf9292540f1bfa2be6ebd356",
     "grade": false,
     "grade_id": "cell-b3c6c39e43756081",
     "locked": true,
     "schema_version": 3,
     "solution": false,
     "task": false
    }
   },
   "source": [
    "Notebooks are expected to be run top to bottom, starting with the first cell and ending with the last. **Failing to run some cells or running cells out of order is likely to result in errors.** For example, if we were to run the second cell before the first has been run the first, we would get an error saying `x` is not defined.\n",
    "\n",
    "Before you hand in this exercise, make sure that it can run without errors from top to bottom. Test this by selecting *Kernel -> Restart & Run All* in the menu.\n",
    "\n",
    "Now to the actual assignment:"
   ]
  },
  {
   "cell_type": "markdown",
   "metadata": {
    "deletable": false,
    "editable": false,
    "nbgrader": {
     "cell_type": "markdown",
     "checksum": "ac44d06f60af6fdcba1724e29b918148",
     "grade": false,
     "grade_id": "cell-e156d3a02cc85105",
     "locked": true,
     "schema_version": 3,
     "solution": false,
     "task": false
    }
   },
   "source": [
    "# Pandas\n",
    "\n",
    "In this series of exercises you will learn to use the library `pandas`. Pandas is a very popular library for storing and manipualting data. For the exercises in this notebook, we will be relying on the following sources:\n",
    "- Chapter 3 from the [Python Data Science Handbook](https://jakevdp.github.io/PythonDataScienceHandbook/)\n",
    "- The official Pandas documentation: [Pandas Documentation](https://pandas.pydata.org/)"
   ]
  },
  {
   "cell_type": "markdown",
   "metadata": {
    "deletable": false,
    "editable": false,
    "nbgrader": {
     "cell_type": "markdown",
     "checksum": "b74089855c289f0e4d9f4a0dcf0586cf",
     "grade": false,
     "grade_id": "cell-e293e349bf745fb4",
     "locked": true,
     "schema_version": 3,
     "solution": false,
     "task": false
    }
   },
   "source": [
    "## Series \n",
    "\n",
    "Start by reading the introduction of `pandas` objects [here](https://jakevdp.github.io/PythonDataScienceHandbook/03.01-introducing-pandas-objects.html).\n",
    "\n",
    "Then, run the cell below to import the necessary libraries. In our distribution, we've also included a file named `answers.py`, which we will also import below. After each set of exercises, a function from `answers.py` is called that will check your answers and provide feedback in the form of assertions."
   ]
  },
  {
   "cell_type": "code",
   "execution_count": 3,
   "metadata": {
    "deletable": false,
    "editable": false,
    "nbgrader": {
     "cell_type": "code",
     "checksum": "1c37e6b8f5571bc5bc034d7c3eb0f54e",
     "grade": false,
     "grade_id": "cell-1673500799a83b53",
     "locked": true,
     "schema_version": 3,
     "solution": false,
     "task": false
    }
   },
   "outputs": [],
   "source": [
    "from pandas import Series\n",
    "import pandas as pd\n",
    "import answers"
   ]
  },
  {
   "cell_type": "markdown",
   "metadata": {
    "deletable": false,
    "editable": false,
    "nbgrader": {
     "cell_type": "markdown",
     "checksum": "85f9dfab5b2cbc3f1fba83aba689ef4a",
     "grade": false,
     "grade_id": "cell-balabla",
     "locked": true,
     "schema_version": 3,
     "solution": false,
     "task": false
    }
   },
   "source": [
    "### Exercise 1\n",
    "\n",
    "Create a `Series`-object named `income` containing the following *figures* and using the *sources* as its index."
   ]
  },
  {
   "cell_type": "code",
   "execution_count": 4,
   "metadata": {
    "deletable": false,
    "nbgrader": {
     "cell_type": "code",
     "checksum": "496a195c59aec538f41dfe0230eaec11",
     "grade": false,
     "grade_id": "cell-08d1e678831a6cb7",
     "locked": false,
     "schema_version": 3,
     "solution": true,
     "task": false
    }
   },
   "outputs": [
    {
     "data": {
      "text/plain": [
       "sales            39041\n",
       "ads               8702\n",
       "subscriptions    13200\n",
       "donations          292\n",
       "dtype: int64"
      ]
     },
     "metadata": {},
     "output_type": "display_data"
    }
   ],
   "source": [
    "from pandas import Series\n",
    "import pandas as pd\n",
    "\n",
    "income_sources = [\"sales\", \"ads\", \"subscriptions\", \"donations\"]\n",
    "income_figures = [39041, 8702, 13200, 292]\n",
    "\n",
    "# income = None\n",
    "income = pd.Series(income_figures, index = income_sources)\n",
    "# income = income_figures([39041, 8702, 13200, 292], index = income_sources[\"sales\", \"ads\", \"subscriptions\", \"donations\"])\n",
    "\n",
    "# your code here\n",
    "\n",
    "display(income)"
   ]
  },
  {
   "cell_type": "markdown",
   "metadata": {
    "deletable": false,
    "editable": false,
    "nbgrader": {
     "cell_type": "markdown",
     "checksum": "156804e3fc56d5978d8887348a834eae",
     "grade": false,
     "grade_id": "cell-e27dca2ead4106cd",
     "locked": true,
     "schema_version": 3,
     "solution": false,
     "task": false
    }
   },
   "source": [
    "Check your answer by running the cell below."
   ]
  },
  {
   "cell_type": "code",
   "execution_count": 5,
   "metadata": {
    "deletable": false,
    "editable": false,
    "nbgrader": {
     "cell_type": "code",
     "checksum": "311155226306803ed1d78dd4a268741d",
     "grade": true,
     "grade_id": "cell-f63a1720e0929f28",
     "locked": true,
     "points": 0,
     "schema_version": 3,
     "solution": false,
     "task": false
    }
   },
   "outputs": [
    {
     "name": "stdout",
     "output_type": "stream",
     "text": [
      "Testing dtype of answer: Success!\n",
      "Testing indices: Success!\n",
      "Testing values: Success!\n"
     ]
    }
   ],
   "source": [
    "answers.test_1(income)"
   ]
  },
  {
   "cell_type": "markdown",
   "metadata": {
    "deletable": false,
    "editable": false,
    "nbgrader": {
     "cell_type": "markdown",
     "checksum": "8f388f55859097a74839a4f97732e6e4",
     "grade": false,
     "grade_id": "cell-e155697815e0e693",
     "locked": true,
     "schema_version": 3,
     "solution": false,
     "task": false
    }
   },
   "source": [
    "### Exercise 2\n",
    "\n",
    "Create a `Series` named `expenses` that uses the expense information below. Also create a `Series` named `profits` with the profit (income minus expenses). Create a variable named `total_profit` with the sum of all profits in `profits`."
   ]
  },
  {
   "cell_type": "code",
   "execution_count": 25,
   "metadata": {
    "deletable": false,
    "nbgrader": {
     "cell_type": "code",
     "checksum": "4a941f71e5f06af442d8b2c99b082d78",
     "grade": false,
     "grade_id": "cell-0df7100d19df7b7f",
     "locked": false,
     "schema_version": 3,
     "solution": true,
     "task": false
    }
   },
   "outputs": [
    {
     "name": "stdout",
     "output_type": "stream",
     "text": [
      "28938\n"
     ]
    }
   ],
   "source": [
    "expense_sources = [\"ads\", \"sales\", \"donations\", \"subscriptions\"]\n",
    "expense_figures = [4713, 24282, 0, 3302]\n",
    "\n",
    "# your code here\n",
    "expenses = pd.Series(expense_figures, index = expense_sources)\n",
    "profits = pd.Series(income - expenses, index = expense_sources)\n",
    "total_profit = sum(profits)\n",
    "print(total_profit)"
   ]
  },
  {
   "cell_type": "markdown",
   "metadata": {
    "deletable": false,
    "editable": false,
    "nbgrader": {
     "cell_type": "markdown",
     "checksum": "221790164142a43aa561e50cf9002b95",
     "grade": false,
     "grade_id": "cell-1de0b0a2a7c76250",
     "locked": true,
     "schema_version": 3,
     "solution": false,
     "task": false
    }
   },
   "source": [
    "Check your answer by running the cell below."
   ]
  },
  {
   "cell_type": "code",
   "execution_count": 26,
   "metadata": {
    "deletable": false,
    "editable": false,
    "nbgrader": {
     "cell_type": "code",
     "checksum": "ff9fa013bf2a3480475fe1d04dc699ce",
     "grade": true,
     "grade_id": "cell-655e507dda0095be",
     "locked": true,
     "points": 0,
     "schema_version": 3,
     "solution": false,
     "task": false
    }
   },
   "outputs": [
    {
     "name": "stdout",
     "output_type": "stream",
     "text": [
      "Testing dtypes: Success!\n",
      "Testing values: Success!\n"
     ]
    }
   ],
   "source": [
    "answers.test_2(expenses, profits, total_profit)"
   ]
  },
  {
   "cell_type": "markdown",
   "metadata": {
    "deletable": false,
    "editable": false,
    "nbgrader": {
     "cell_type": "markdown",
     "checksum": "3da312911734b0672146790dc4b2d1e9",
     "grade": false,
     "grade_id": "cell-db980f180e853f8a",
     "locked": true,
     "schema_version": 3,
     "solution": false,
     "task": false
    }
   },
   "source": [
    "## DataFrames\n",
    "\n",
    "### Exercise 3\n",
    "\n",
    "Create a `DataFrame` named `skittles` with the *columns* `amount` and `rating`, using the different colors as the *index*.\n",
    "\n",
    "|&nbsp;      | amount | rating |\n",
    "|------------|--------|--------|\n",
    "| **red**    | 7      | 3      |\n",
    "| **green**  | 4      | 4      |\n",
    "| **blue**   | 6      | 2      |\n",
    "| **purple** | 5      | 4      |\n",
    "| **pink**   | 6      | 3.5    |\n",
    "\n",
    "Using `Jupyter`'s `display()` makes sure we get a nicely formatted table."
   ]
  },
  {
   "cell_type": "code",
   "execution_count": 30,
   "metadata": {
    "deletable": false,
    "nbgrader": {
     "cell_type": "code",
     "checksum": "804191c8bbfe049917ea1f4782887a1e",
     "grade": false,
     "grade_id": "cell-9c6637d8f47dcc08",
     "locked": false,
     "schema_version": 3,
     "solution": true,
     "task": false
    }
   },
   "outputs": [
    {
     "data": {
      "text/html": [
       "<div>\n",
       "<style scoped>\n",
       "    .dataframe tbody tr th:only-of-type {\n",
       "        vertical-align: middle;\n",
       "    }\n",
       "\n",
       "    .dataframe tbody tr th {\n",
       "        vertical-align: top;\n",
       "    }\n",
       "\n",
       "    .dataframe thead th {\n",
       "        text-align: right;\n",
       "    }\n",
       "</style>\n",
       "<table border=\"1\" class=\"dataframe\">\n",
       "  <thead>\n",
       "    <tr style=\"text-align: right;\">\n",
       "      <th></th>\n",
       "      <th>amount</th>\n",
       "      <th>rating</th>\n",
       "    </tr>\n",
       "  </thead>\n",
       "  <tbody>\n",
       "    <tr>\n",
       "      <th>red</th>\n",
       "      <td>7</td>\n",
       "      <td>3.0</td>\n",
       "    </tr>\n",
       "    <tr>\n",
       "      <th>green</th>\n",
       "      <td>4</td>\n",
       "      <td>4.0</td>\n",
       "    </tr>\n",
       "    <tr>\n",
       "      <th>blue</th>\n",
       "      <td>6</td>\n",
       "      <td>2.0</td>\n",
       "    </tr>\n",
       "    <tr>\n",
       "      <th>purple</th>\n",
       "      <td>5</td>\n",
       "      <td>4.0</td>\n",
       "    </tr>\n",
       "    <tr>\n",
       "      <th>pink</th>\n",
       "      <td>6</td>\n",
       "      <td>3.5</td>\n",
       "    </tr>\n",
       "  </tbody>\n",
       "</table>\n",
       "</div>"
      ],
      "text/plain": [
       "        amount  rating\n",
       "red          7     3.0\n",
       "green        4     4.0\n",
       "blue         6     2.0\n",
       "purple       5     4.0\n",
       "pink         6     3.5"
      ]
     },
     "metadata": {},
     "output_type": "display_data"
    }
   ],
   "source": [
    "from pandas import DataFrame\n",
    "\n",
    "# your code here\n",
    "amount_dict = {'red': 7, 'green': 4, 'blue': 6,\n",
    "             'purple': 5, 'pink': 6}\n",
    "amount = pd.Series(amount_dict)\n",
    "rating_dict = {'red': 3, 'green': 4, 'blue': 2,\n",
    "             'purple': 4, 'pink': 3.5}\n",
    "rating = pd.Series(rating_dict)\n",
    "skittles = pd.DataFrame({'amount': amount, 'rating': rating})\n",
    "\n",
    "display(skittles)"
   ]
  },
  {
   "cell_type": "markdown",
   "metadata": {
    "deletable": false,
    "editable": false,
    "nbgrader": {
     "cell_type": "markdown",
     "checksum": "5506990c2cc70bf2833c3882e2eb3cb1",
     "grade": false,
     "grade_id": "cell-q2ddc345e46",
     "locked": true,
     "schema_version": 3,
     "solution": false,
     "task": false
    }
   },
   "source": [
    "Check your answer by running the cell below."
   ]
  },
  {
   "cell_type": "code",
   "execution_count": 31,
   "metadata": {
    "deletable": false,
    "editable": false,
    "nbgrader": {
     "cell_type": "code",
     "checksum": "3d345fecb371a034f33098143510885a",
     "grade": true,
     "grade_id": "cell-1c954e8d9484f4be",
     "locked": true,
     "points": 1,
     "schema_version": 3,
     "solution": false,
     "task": false
    }
   },
   "outputs": [
    {
     "name": "stdout",
     "output_type": "stream",
     "text": [
      "Testing dtype: Success!\n",
      "Testing labels: Success!\n",
      "Testing values: Success!\n"
     ]
    }
   ],
   "source": [
    "answers.test_3(skittles)"
   ]
  },
  {
   "cell_type": "code",
   "execution_count": 35,
   "metadata": {
    "deletable": false,
    "nbgrader": {
     "cell_type": "code",
     "checksum": "6fcb31817d373c316dc9a297c7a089bf",
     "grade": false,
     "grade_id": "cell-3cd5760702610631",
     "locked": false,
     "schema_version": 3,
     "solution": true,
     "task": false
    }
   },
   "outputs": [
    {
     "data": {
      "text/plain": [
       "3.3"
      ]
     },
     "metadata": {},
     "output_type": "display_data"
    }
   ],
   "source": [
    "# your code here\n",
    "skittles_average = (sum(skittles['rating']) / len(skittles['rating']))\n",
    "\n",
    "display(skittles_average)"
   ]
  },
  {
   "cell_type": "markdown",
   "metadata": {
    "deletable": false,
    "editable": false,
    "nbgrader": {
     "cell_type": "markdown",
     "checksum": "d754111e831fb3a7081c5530b399a197",
     "grade": false,
     "grade_id": "cell-q2ddcesdf46",
     "locked": true,
     "schema_version": 3,
     "solution": false,
     "task": false
    }
   },
   "source": [
    "Check your answer by running the cell below."
   ]
  },
  {
   "cell_type": "code",
   "execution_count": 36,
   "metadata": {
    "deletable": false,
    "editable": false,
    "nbgrader": {
     "cell_type": "code",
     "checksum": "5c4cf668dacd4c91096fb6522b29abeb",
     "grade": true,
     "grade_id": "cell-4a63780e28d4318f",
     "locked": true,
     "points": 1,
     "schema_version": 3,
     "solution": false,
     "task": false
    }
   },
   "outputs": [
    {
     "name": "stdout",
     "output_type": "stream",
     "text": [
      "Testing: Success!\n"
     ]
    }
   ],
   "source": [
    "answers.test_4(skittles_average)"
   ]
  },
  {
   "cell_type": "markdown",
   "metadata": {
    "deletable": false,
    "editable": false,
    "nbgrader": {
     "cell_type": "markdown",
     "checksum": "de7fb79626b551b4600b1c5d3fbb2a9f",
     "grade": false,
     "grade_id": "cell-d16475de8a3e3014",
     "locked": true,
     "schema_version": 3,
     "solution": false,
     "task": false
    }
   },
   "source": [
    "### Exercise 4\n",
    "\n",
    "Calculate the mean `rating` and save as `skittles_average`."
   ]
  },
  {
   "cell_type": "markdown",
   "metadata": {
    "deletable": false,
    "editable": false,
    "nbgrader": {
     "cell_type": "markdown",
     "checksum": "855783c92f94e7e22414f6269a4d6f9f",
     "grade": false,
     "grade_id": "cell-39f6de36e08a7146",
     "locked": true,
     "schema_version": 3,
     "solution": false,
     "task": false
    }
   },
   "source": [
    "### Exercise 5\n",
    "\n",
    "Add a new column to the skittles `DataFrame` named `score`. The score of a color is equal to `amount * rating`."
   ]
  },
  {
   "cell_type": "code",
   "execution_count": 38,
   "metadata": {
    "deletable": false,
    "nbgrader": {
     "cell_type": "code",
     "checksum": "d1766fd2403b0274b9af456003f45943",
     "grade": false,
     "grade_id": "cell-44c741b6c7562337",
     "locked": false,
     "schema_version": 3,
     "solution": true,
     "task": false
    }
   },
   "outputs": [
    {
     "data": {
      "text/html": [
       "<div>\n",
       "<style scoped>\n",
       "    .dataframe tbody tr th:only-of-type {\n",
       "        vertical-align: middle;\n",
       "    }\n",
       "\n",
       "    .dataframe tbody tr th {\n",
       "        vertical-align: top;\n",
       "    }\n",
       "\n",
       "    .dataframe thead th {\n",
       "        text-align: right;\n",
       "    }\n",
       "</style>\n",
       "<table border=\"1\" class=\"dataframe\">\n",
       "  <thead>\n",
       "    <tr style=\"text-align: right;\">\n",
       "      <th></th>\n",
       "      <th>amount</th>\n",
       "      <th>rating</th>\n",
       "      <th>score</th>\n",
       "    </tr>\n",
       "  </thead>\n",
       "  <tbody>\n",
       "    <tr>\n",
       "      <th>red</th>\n",
       "      <td>7</td>\n",
       "      <td>3.0</td>\n",
       "      <td>21.0</td>\n",
       "    </tr>\n",
       "    <tr>\n",
       "      <th>green</th>\n",
       "      <td>4</td>\n",
       "      <td>4.0</td>\n",
       "      <td>16.0</td>\n",
       "    </tr>\n",
       "    <tr>\n",
       "      <th>blue</th>\n",
       "      <td>6</td>\n",
       "      <td>2.0</td>\n",
       "      <td>12.0</td>\n",
       "    </tr>\n",
       "    <tr>\n",
       "      <th>purple</th>\n",
       "      <td>5</td>\n",
       "      <td>4.0</td>\n",
       "      <td>20.0</td>\n",
       "    </tr>\n",
       "    <tr>\n",
       "      <th>pink</th>\n",
       "      <td>6</td>\n",
       "      <td>3.5</td>\n",
       "      <td>21.0</td>\n",
       "    </tr>\n",
       "  </tbody>\n",
       "</table>\n",
       "</div>"
      ],
      "text/plain": [
       "        amount  rating  score\n",
       "red          7     3.0   21.0\n",
       "green        4     4.0   16.0\n",
       "blue         6     2.0   12.0\n",
       "purple       5     4.0   20.0\n",
       "pink         6     3.5   21.0"
      ]
     },
     "metadata": {},
     "output_type": "display_data"
    }
   ],
   "source": [
    "# your code here\n",
    "skittles.insert(2, \"score\", skittles['amount'] * skittles['rating'])\n",
    "display(skittles)"
   ]
  },
  {
   "cell_type": "markdown",
   "metadata": {
    "deletable": false,
    "editable": false,
    "nbgrader": {
     "cell_type": "markdown",
     "checksum": "7040cfcb4dc1cd7f6e749399c6881e54",
     "grade": false,
     "grade_id": "cell-q2ddsdce46",
     "locked": true,
     "schema_version": 3,
     "solution": false,
     "task": false
    }
   },
   "source": [
    "Check your answer by running the cell below."
   ]
  },
  {
   "cell_type": "code",
   "execution_count": 39,
   "metadata": {
    "deletable": false,
    "editable": false,
    "nbgrader": {
     "cell_type": "code",
     "checksum": "0bab19228f456ad1d13360dbac032fb6",
     "grade": true,
     "grade_id": "cell-8d4b31a62e056a4c",
     "locked": true,
     "points": 1,
     "schema_version": 3,
     "solution": false,
     "task": false
    }
   },
   "outputs": [],
   "source": [
    "assert \"score\" in skittles"
   ]
  },
  {
   "cell_type": "markdown",
   "metadata": {
    "deletable": false,
    "editable": false,
    "nbgrader": {
     "cell_type": "markdown",
     "checksum": "fbb2919fca7c2d906f565bd062c623ca",
     "grade": false,
     "grade_id": "cell-cc6978bc2a03800b",
     "locked": true,
     "schema_version": 3,
     "solution": false,
     "task": false
    }
   },
   "source": [
    "## Indexing and selection\n",
    "\n",
    "Read the [next](https://jakevdp.github.io/PythonDataScienceHandbook/03.02-data-indexing-and-selection.html) part of the reference.\n",
    "\n",
    "### Exercise 6\n",
    "\n",
    "For the given `DataFrame` select only columns 'a', 'c', and 'e', and rows 10, 20, 50, 60 and store the result again in the variable `frame`. As a clarification, the original `DataFrame` looks like:\n",
    "\n",
    "<table border=\"1\" class=\"dataframe\">  <thead>    <tr style=\"text-align: right;\">      <th></th>      <th>a</th>      <th>b</th>      <th>c</th>      <th>d</th>      <th>e</th>      <th>f</th>      <th>g</th>    </tr>  </thead>  <tbody>    <tr>      <th>10</th>      <td>0.0</td>      <td>1.0</td>      <td>2.0</td>      <td>3.0</td>      <td>4.0</td>      <td>5.0</td>      <td>6.0</td>    </tr>    <tr>      <th>20</th>      <td>7.0</td>      <td>8.0</td>      <td>9.0</td>      <td>10.0</td>      <td>11.0</td>      <td>12.0</td>      <td>13.0</td>    </tr>    <tr>      <th>30</th>      <td>14.0</td>      <td>15.0</td>      <td>16.0</td>      <td>17.0</td>      <td>18.0</td>      <td>19.0</td>      <td>20.0</td>    </tr>    <tr>      <th>40</th>      <td>21.0</td>      <td>22.0</td>      <td>23.0</td>      <td>24.0</td>      <td>25.0</td>      <td>26.0</td>      <td>27.0</td>    </tr>    <tr>      <th>50</th>      <td>28.0</td>      <td>29.0</td>      <td>30.0</td>      <td>31.0</td>      <td>32.0</td>      <td>33.0</td>      <td>34.0</td>    </tr>    <tr>      <th>60</th>      <td>35.0</td>      <td>36.0</td>      <td>37.0</td>      <td>38.0</td>      <td>39.0</td>      <td>40.0</td>      <td>41.0</td>    </tr>  </tbody></table>\n",
    "\n",
    "Re-index such that it looks like:\n",
    "\n",
    "<table border=\"1\" class=\"dataframe\">  <thead>    <tr style=\"text-align: right;\">      <th></th>      <th>a</th>      <th>c</th>      <th>e</th>    </tr>  </thead>  <tbody>    <tr>      <th>10</th>      <td>0.0</td>      <td>2.0</td>      <td>4.0</td>    </tr>    <tr>      <th>20</th>      <td>7.0</td>      <td>9.0</td>      <td>11.0</td>    </tr>    <tr>      <th>50</th>      <td>28.0</td>      <td>30.0</td>      <td>32.0</td>    </tr>    <tr>      <th>60</th>      <td>35.0</td>      <td>37.0</td>      <td>39.0</td>    </tr>  </tbody></table>\n"
   ]
  },
  {
   "cell_type": "code",
   "execution_count": 75,
   "metadata": {
    "deletable": false,
    "nbgrader": {
     "cell_type": "code",
     "checksum": "010241fc722bcaba8d1ec04e22113dad",
     "grade": false,
     "grade_id": "cell-a7305488e1ae7000",
     "locked": false,
     "schema_version": 3,
     "solution": true,
     "task": false
    }
   },
   "outputs": [
    {
     "data": {
      "text/html": [
       "<div>\n",
       "<style scoped>\n",
       "    .dataframe tbody tr th:only-of-type {\n",
       "        vertical-align: middle;\n",
       "    }\n",
       "\n",
       "    .dataframe tbody tr th {\n",
       "        vertical-align: top;\n",
       "    }\n",
       "\n",
       "    .dataframe thead th {\n",
       "        text-align: right;\n",
       "    }\n",
       "</style>\n",
       "<table border=\"1\" class=\"dataframe\">\n",
       "  <thead>\n",
       "    <tr style=\"text-align: right;\">\n",
       "      <th></th>\n",
       "      <th>a</th>\n",
       "      <th>c</th>\n",
       "      <th>e</th>\n",
       "    </tr>\n",
       "  </thead>\n",
       "  <tbody>\n",
       "    <tr>\n",
       "      <th>10</th>\n",
       "      <td>0.0</td>\n",
       "      <td>2.0</td>\n",
       "      <td>4.0</td>\n",
       "    </tr>\n",
       "    <tr>\n",
       "      <th>20</th>\n",
       "      <td>7.0</td>\n",
       "      <td>9.0</td>\n",
       "      <td>11.0</td>\n",
       "    </tr>\n",
       "    <tr>\n",
       "      <th>50</th>\n",
       "      <td>28.0</td>\n",
       "      <td>30.0</td>\n",
       "      <td>32.0</td>\n",
       "    </tr>\n",
       "    <tr>\n",
       "      <th>60</th>\n",
       "      <td>35.0</td>\n",
       "      <td>37.0</td>\n",
       "      <td>39.0</td>\n",
       "    </tr>\n",
       "  </tbody>\n",
       "</table>\n",
       "</div>"
      ],
      "text/plain": [
       "       a     c     e\n",
       "10   0.0   2.0   4.0\n",
       "20   7.0   9.0  11.0\n",
       "50  28.0  30.0  32.0\n",
       "60  35.0  37.0  39.0"
      ]
     },
     "metadata": {},
     "output_type": "display_data"
    }
   ],
   "source": [
    "import numpy as np\n",
    "\n",
    "frame = DataFrame(np.arange(6 * 7.).reshape((6, 7)), index=[10, 20, 30, 40, 50, 60], columns=list('abcdefg'))\n",
    "\n",
    "# your code here\n",
    "frame2 = frame.loc[[10, 20, 50, 60],['a', 'c', 'e']]\n",
    "\n",
    "display(frame2)"
   ]
  },
  {
   "cell_type": "markdown",
   "metadata": {
    "deletable": false,
    "editable": false,
    "nbgrader": {
     "cell_type": "markdown",
     "checksum": "97ac8fb09dd26fa13ec4de2be9ae4465",
     "grade": false,
     "grade_id": "cell-q2ddwwwce46",
     "locked": true,
     "schema_version": 3,
     "solution": false,
     "task": false
    }
   },
   "source": [
    "Check your answer by running the cell below."
   ]
  },
  {
   "cell_type": "code",
   "execution_count": 76,
   "metadata": {
    "deletable": false,
    "editable": false,
    "nbgrader": {
     "cell_type": "code",
     "checksum": "9981bf1e606baf63eb9f8b62e61bd1ed",
     "grade": true,
     "grade_id": "cell-6cf72e8c3526a88a",
     "locked": true,
     "points": 1,
     "schema_version": 3,
     "solution": false,
     "task": false
    }
   },
   "outputs": [
    {
     "name": "stdout",
     "output_type": "stream",
     "text": [
      "Testing: Success!\n"
     ]
    }
   ],
   "source": [
    "answers.test_6(frame2)"
   ]
  },
  {
   "cell_type": "markdown",
   "metadata": {
    "deletable": false,
    "editable": false,
    "nbgrader": {
     "cell_type": "markdown",
     "checksum": "fe4c7f266680eb0d919e7530ca40446b",
     "grade": false,
     "grade_id": "cell-1ff423e018fe6b17",
     "locked": true,
     "schema_version": 3,
     "solution": false,
     "task": false
    }
   },
   "source": [
    "### Exercise 7\n",
    "\n",
    "Replace all values in the data frame `frame` that are *divisible by 3* with the value *0*. Store the result in `frame`."
   ]
  },
  {
   "cell_type": "code",
   "execution_count": 81,
   "metadata": {
    "deletable": false,
    "nbgrader": {
     "cell_type": "code",
     "checksum": "9070ea7362b7e1f0ba517595d44eb2b3",
     "grade": false,
     "grade_id": "cell-a0d227a359b7a2d8",
     "locked": false,
     "schema_version": 3,
     "solution": true,
     "task": false
    }
   },
   "outputs": [
    {
     "data": {
      "text/html": [
       "<div>\n",
       "<style scoped>\n",
       "    .dataframe tbody tr th:only-of-type {\n",
       "        vertical-align: middle;\n",
       "    }\n",
       "\n",
       "    .dataframe tbody tr th {\n",
       "        vertical-align: top;\n",
       "    }\n",
       "\n",
       "    .dataframe thead th {\n",
       "        text-align: right;\n",
       "    }\n",
       "</style>\n",
       "<table border=\"1\" class=\"dataframe\">\n",
       "  <thead>\n",
       "    <tr style=\"text-align: right;\">\n",
       "      <th></th>\n",
       "      <th>a</th>\n",
       "      <th>b</th>\n",
       "      <th>c</th>\n",
       "      <th>d</th>\n",
       "      <th>e</th>\n",
       "      <th>f</th>\n",
       "      <th>g</th>\n",
       "    </tr>\n",
       "  </thead>\n",
       "  <tbody>\n",
       "    <tr>\n",
       "      <th>10</th>\n",
       "      <td>0.0</td>\n",
       "      <td>1.0</td>\n",
       "      <td>2.0</td>\n",
       "      <td>0.0</td>\n",
       "      <td>4.0</td>\n",
       "      <td>5.0</td>\n",
       "      <td>0.0</td>\n",
       "    </tr>\n",
       "    <tr>\n",
       "      <th>20</th>\n",
       "      <td>7.0</td>\n",
       "      <td>8.0</td>\n",
       "      <td>0.0</td>\n",
       "      <td>10.0</td>\n",
       "      <td>11.0</td>\n",
       "      <td>0.0</td>\n",
       "      <td>13.0</td>\n",
       "    </tr>\n",
       "    <tr>\n",
       "      <th>30</th>\n",
       "      <td>14.0</td>\n",
       "      <td>0.0</td>\n",
       "      <td>16.0</td>\n",
       "      <td>17.0</td>\n",
       "      <td>0.0</td>\n",
       "      <td>19.0</td>\n",
       "      <td>20.0</td>\n",
       "    </tr>\n",
       "    <tr>\n",
       "      <th>40</th>\n",
       "      <td>0.0</td>\n",
       "      <td>22.0</td>\n",
       "      <td>23.0</td>\n",
       "      <td>0.0</td>\n",
       "      <td>25.0</td>\n",
       "      <td>26.0</td>\n",
       "      <td>0.0</td>\n",
       "    </tr>\n",
       "    <tr>\n",
       "      <th>50</th>\n",
       "      <td>28.0</td>\n",
       "      <td>29.0</td>\n",
       "      <td>0.0</td>\n",
       "      <td>31.0</td>\n",
       "      <td>32.0</td>\n",
       "      <td>0.0</td>\n",
       "      <td>34.0</td>\n",
       "    </tr>\n",
       "    <tr>\n",
       "      <th>60</th>\n",
       "      <td>35.0</td>\n",
       "      <td>0.0</td>\n",
       "      <td>37.0</td>\n",
       "      <td>38.0</td>\n",
       "      <td>0.0</td>\n",
       "      <td>40.0</td>\n",
       "      <td>41.0</td>\n",
       "    </tr>\n",
       "  </tbody>\n",
       "</table>\n",
       "</div>"
      ],
      "text/plain": [
       "       a     b     c     d     e     f     g\n",
       "10   0.0   1.0   2.0   0.0   4.0   5.0   0.0\n",
       "20   7.0   8.0   0.0  10.0  11.0   0.0  13.0\n",
       "30  14.0   0.0  16.0  17.0   0.0  19.0  20.0\n",
       "40   0.0  22.0  23.0   0.0  25.0  26.0   0.0\n",
       "50  28.0  29.0   0.0  31.0  32.0   0.0  34.0\n",
       "60  35.0   0.0  37.0  38.0   0.0  40.0  41.0"
      ]
     },
     "metadata": {},
     "output_type": "display_data"
    }
   ],
   "source": [
    "frame = DataFrame(np.arange(6 * 7.).reshape((6, 7)), index=[10, 20, 30, 40, 50, 60], columns=list('abcdefg'))\n",
    "\n",
    "# your code here\n",
    "frame[frame % 3 == 0] = 0\n",
    "\n",
    "display(frame)"
   ]
  },
  {
   "cell_type": "markdown",
   "metadata": {
    "deletable": false,
    "editable": false,
    "nbgrader": {
     "cell_type": "markdown",
     "checksum": "4e408a0e0448bcc6f56e5464c3216e96",
     "grade": false,
     "grade_id": "cell-q2dd333ce46",
     "locked": true,
     "schema_version": 3,
     "solution": false,
     "task": false
    }
   },
   "source": [
    "Check your answer by running the cell below."
   ]
  },
  {
   "cell_type": "code",
   "execution_count": 82,
   "metadata": {
    "deletable": false,
    "editable": false,
    "nbgrader": {
     "cell_type": "code",
     "checksum": "9326b8662f45148cfdc173a0c9faba44",
     "grade": true,
     "grade_id": "cell-d3178809b040bf79",
     "locked": true,
     "points": 1,
     "schema_version": 3,
     "solution": false,
     "task": false
    }
   },
   "outputs": [
    {
     "name": "stdout",
     "output_type": "stream",
     "text": [
      "Testing: Success!\n"
     ]
    }
   ],
   "source": [
    "answers.test_7(frame)"
   ]
  },
  {
   "cell_type": "markdown",
   "metadata": {
    "deletable": false,
    "editable": false,
    "nbgrader": {
     "cell_type": "markdown",
     "checksum": "c2ea8c654fcc5cb73c7d5e7b3637baf4",
     "grade": false,
     "grade_id": "cell-b0cc2afba8d064b6",
     "locked": true,
     "schema_version": 3,
     "solution": false,
     "task": false
    }
   },
   "source": [
    "## Operating on dataframes\n",
    "\n",
    "Read about [operations in pandas](https://jakevdp.github.io/PythonDataScienceHandbook/03.03-operations-in-pandas.html).\n",
    "\n",
    "### Exercise 8\n",
    "\n",
    "Create a `Series` named `series_c` with the result of the calculation `series_a - series_b`. Note that `series_a` and `series_b` do not use the same indexing. Replace any missing values in `series_b` with 0. Values that are in `series_b` but not in `series_a` need not be in `series_c`."
   ]
  },
  {
   "cell_type": "code",
   "execution_count": 149,
   "metadata": {
    "deletable": false,
    "nbgrader": {
     "cell_type": "code",
     "checksum": "0c6bbb8af806c2951e2cfcd6a0e470ad",
     "grade": false,
     "grade_id": "cell-65a850d571a08e13",
     "locked": false,
     "schema_version": 3,
     "solution": true,
     "task": false
    }
   },
   "outputs": [
    {
     "data": {
      "text/plain": [
       "a     477.0\n",
       "b     400.0\n",
       "c     254.0\n",
       "d     200.0\n",
       "e     100.0\n",
       "dtype: float64"
      ]
     },
     "metadata": {},
     "output_type": "display_data"
    }
   ],
   "source": [
    "series_a = Series([500, 400, 300, 200, 100], index=[\"a\", \"b\", \"c \", \"d\", \"e\"])\n",
    "series_b = Series([23, 46, 67, 79], index=[\"a\", \"c \", \"f\", \"g\"])\n",
    "series_c = series_a.sub(series_b, fill_value=0)\n",
    "# series_d = series_c.reindex_like(series_b)\n",
    "\n",
    "# your code here\n",
    "series_c = series_c.reindex_like(series_a)\n",
    "display(series_c)\n",
    "# display(series_d)"
   ]
  },
  {
   "cell_type": "markdown",
   "metadata": {
    "deletable": false,
    "editable": false,
    "nbgrader": {
     "cell_type": "markdown",
     "checksum": "6d20be6d0c0167a0e09f7550c421e971",
     "grade": false,
     "grade_id": "cell-fdspppp123",
     "locked": true,
     "schema_version": 3,
     "solution": false,
     "task": false
    }
   },
   "source": [
    "Check your answer by running the cell below."
   ]
  },
  {
   "cell_type": "code",
   "execution_count": 150,
   "metadata": {
    "deletable": false,
    "editable": false,
    "nbgrader": {
     "cell_type": "code",
     "checksum": "7699a05e23ff7a731ab8af576e39584c",
     "grade": true,
     "grade_id": "cell-f2e1aaa735d7b5ee",
     "locked": true,
     "points": 0,
     "schema_version": 3,
     "solution": false,
     "task": false
    }
   },
   "outputs": [
    {
     "name": "stdout",
     "output_type": "stream",
     "text": [
      "Testing: Success!\n"
     ]
    }
   ],
   "source": [
    "answers.test_8(series_a, series_b, series_c)"
   ]
  },
  {
   "cell_type": "markdown",
   "metadata": {
    "deletable": false,
    "editable": false,
    "nbgrader": {
     "cell_type": "markdown",
     "checksum": "5f20687c0664a74987166754be71f6bc",
     "grade": false,
     "grade_id": "cell-92d82e2a5554465d",
     "locked": true,
     "schema_version": 3,
     "solution": false,
     "task": false
    }
   },
   "source": [
    "## Map\n",
    "\n",
    "`pandas` has it's own `map()` function! As expected, it maps a function to every element of a `Series` or `DataFrame` and gives back a new `Series` or `DataFrame`. As an example:\n",
    "\n",
    "```Py\n",
    "tokens = Series([\"hello\", \" \", \"world!\"])\n",
    "\n",
    "lengths = []\n",
    "for token in tokens:\n",
    "    lengths.append(len(token))\n",
    "lenghts = Series(lengths)\n",
    "```\n",
    "\n",
    "Can be converted to:\n",
    "\n",
    "```Py\n",
    "tokens = Series([\"hello\", \" \", \"world!\"])\n",
    "lengths = tokens.map(len)\n",
    "```\n",
    "\n",
    "### Exercise 9\n",
    "\n",
    "Convert all words in the `Series` `words` to lowercase. Use `str.lower()`."
   ]
  },
  {
   "cell_type": "code",
   "execution_count": 157,
   "metadata": {
    "deletable": false,
    "nbgrader": {
     "cell_type": "code",
     "checksum": "fc760b222fadb943914ed77f34fc6421",
     "grade": false,
     "grade_id": "cell-2b1c1839014b7bb7",
     "locked": false,
     "schema_version": 3,
     "solution": true,
     "task": false
    }
   },
   "outputs": [
    {
     "data": {
      "text/plain": [
       "0      foo\n",
       "1      bar\n",
       "2      baz\n",
       "3      qux\n",
       "4    quuux\n",
       "dtype: object"
      ]
     },
     "metadata": {},
     "output_type": "display_data"
    }
   ],
   "source": [
    "words = Series([\"foo\", \"Bar\", \"baz\", \"QUX\", \"QuUuX\"])\n",
    "\n",
    "# your code here\n",
    "words = words.str.lower()\n",
    "\n",
    "display(words)"
   ]
  },
  {
   "cell_type": "markdown",
   "metadata": {
    "deletable": false,
    "editable": false,
    "nbgrader": {
     "cell_type": "markdown",
     "checksum": "76af73100c55f55286c6c900438e4f97",
     "grade": false,
     "grade_id": "cell-q2ddce90j46",
     "locked": true,
     "schema_version": 3,
     "solution": false,
     "task": false
    }
   },
   "source": [
    "Check your answer by running the cell below."
   ]
  },
  {
   "cell_type": "code",
   "execution_count": 158,
   "metadata": {
    "deletable": false,
    "editable": false,
    "nbgrader": {
     "cell_type": "code",
     "checksum": "88dbd673b9a7079e2ec8fe74e54f077e",
     "grade": true,
     "grade_id": "cell-0146d3cab03d2489",
     "locked": true,
     "points": 0,
     "schema_version": 3,
     "solution": false,
     "task": false
    }
   },
   "outputs": [
    {
     "name": "stdout",
     "output_type": "stream",
     "text": [
      "Testing: Success!\n"
     ]
    }
   ],
   "source": [
    "answers.test_9(words)"
   ]
  },
  {
   "cell_type": "markdown",
   "metadata": {
    "deletable": false,
    "editable": false,
    "nbgrader": {
     "cell_type": "markdown",
     "checksum": "734bd184677d75e844cb2d76a0312ca8",
     "grade": false,
     "grade_id": "cell-d814292f9717a193",
     "locked": true,
     "schema_version": 3,
     "solution": false,
     "task": false
    }
   },
   "source": [
    "### Exercise 10\n",
    "\n",
    "Sort `frame` on column `c` in descending order and store the solution in `frame`."
   ]
  },
  {
   "cell_type": "code",
   "execution_count": 164,
   "metadata": {
    "deletable": false,
    "nbgrader": {
     "cell_type": "code",
     "checksum": "f21832842f3598eb12e37e23aa268428",
     "grade": false,
     "grade_id": "cell-aeaf0687179d5b33",
     "locked": false,
     "schema_version": 3,
     "solution": true,
     "task": false
    }
   },
   "outputs": [
    {
     "data": {
      "text/html": [
       "<div>\n",
       "<style scoped>\n",
       "    .dataframe tbody tr th:only-of-type {\n",
       "        vertical-align: middle;\n",
       "    }\n",
       "\n",
       "    .dataframe tbody tr th {\n",
       "        vertical-align: top;\n",
       "    }\n",
       "\n",
       "    .dataframe thead th {\n",
       "        text-align: right;\n",
       "    }\n",
       "</style>\n",
       "<table border=\"1\" class=\"dataframe\">\n",
       "  <thead>\n",
       "    <tr style=\"text-align: right;\">\n",
       "      <th></th>\n",
       "      <th>a</th>\n",
       "      <th>b</th>\n",
       "      <th>c</th>\n",
       "      <th>d</th>\n",
       "      <th>e</th>\n",
       "      <th>f</th>\n",
       "      <th>g</th>\n",
       "    </tr>\n",
       "  </thead>\n",
       "  <tbody>\n",
       "    <tr>\n",
       "      <th>1</th>\n",
       "      <td>1.753780</td>\n",
       "      <td>2.409629</td>\n",
       "      <td>1.842674</td>\n",
       "      <td>0.754906</td>\n",
       "      <td>-0.115614</td>\n",
       "      <td>0.877219</td>\n",
       "      <td>1.599362</td>\n",
       "    </tr>\n",
       "    <tr>\n",
       "      <th>2</th>\n",
       "      <td>-1.411760</td>\n",
       "      <td>1.103801</td>\n",
       "      <td>1.216514</td>\n",
       "      <td>0.548866</td>\n",
       "      <td>2.255482</td>\n",
       "      <td>-0.176342</td>\n",
       "      <td>0.965265</td>\n",
       "    </tr>\n",
       "    <tr>\n",
       "      <th>3</th>\n",
       "      <td>-0.741689</td>\n",
       "      <td>0.216645</td>\n",
       "      <td>-0.278025</td>\n",
       "      <td>0.777175</td>\n",
       "      <td>0.869239</td>\n",
       "      <td>-0.943004</td>\n",
       "      <td>-0.140957</td>\n",
       "    </tr>\n",
       "    <tr>\n",
       "      <th>5</th>\n",
       "      <td>0.584980</td>\n",
       "      <td>0.623890</td>\n",
       "      <td>-0.425614</td>\n",
       "      <td>0.530479</td>\n",
       "      <td>-1.818631</td>\n",
       "      <td>-1.593188</td>\n",
       "      <td>1.591233</td>\n",
       "    </tr>\n",
       "    <tr>\n",
       "      <th>4</th>\n",
       "      <td>-1.585930</td>\n",
       "      <td>1.179600</td>\n",
       "      <td>-0.702286</td>\n",
       "      <td>2.367875</td>\n",
       "      <td>0.592748</td>\n",
       "      <td>1.386158</td>\n",
       "      <td>0.535978</td>\n",
       "    </tr>\n",
       "    <tr>\n",
       "      <th>0</th>\n",
       "      <td>0.691074</td>\n",
       "      <td>-1.272521</td>\n",
       "      <td>-0.968045</td>\n",
       "      <td>-2.066171</td>\n",
       "      <td>-0.670358</td>\n",
       "      <td>1.399483</td>\n",
       "      <td>-1.148168</td>\n",
       "    </tr>\n",
       "  </tbody>\n",
       "</table>\n",
       "</div>"
      ],
      "text/plain": [
       "          a         b         c         d         e         f         g\n",
       "1  1.753780  2.409629  1.842674  0.754906 -0.115614  0.877219  1.599362\n",
       "2 -1.411760  1.103801  1.216514  0.548866  2.255482 -0.176342  0.965265\n",
       "3 -0.741689  0.216645 -0.278025  0.777175  0.869239 -0.943004 -0.140957\n",
       "5  0.584980  0.623890 -0.425614  0.530479 -1.818631 -1.593188  1.591233\n",
       "4 -1.585930  1.179600 -0.702286  2.367875  0.592748  1.386158  0.535978\n",
       "0  0.691074 -1.272521 -0.968045 -2.066171 -0.670358  1.399483 -1.148168"
      ]
     },
     "metadata": {},
     "output_type": "display_data"
    }
   ],
   "source": [
    "data = [[0.691074, -1.272521, -0.968045, -2.066171, -0.670358, 1.399483, -1.148168], \n",
    "        [1.75378, 2.409629, 1.842674, 0.754906, -0.115614, 0.877219, 1.599362], \n",
    "        [-1.41176, 1.103801, 1.216514, 0.548866, 2.255482, -0.176342, 0.965265], \n",
    "        [-0.741689, 0.216645, -0.278025, 0.777175, 0.869239, -0.943004, -0.140957], \n",
    "        [-1.58593, 1.1796, -0.702286, 2.367875, 0.592748, 1.386158, 0.535978], \n",
    "        [0.58498, 0.62389, -0.425614, 0.530479, -1.818631, -1.593188, 1.591233]]\n",
    "\n",
    "frame = DataFrame(data, columns=list('abcdefg'))\n",
    "\n",
    "# your code here\n",
    "frame = frame.sort_values(by='c', ascending=False)\n",
    "\n",
    "display(frame)"
   ]
  },
  {
   "cell_type": "markdown",
   "metadata": {
    "deletable": false,
    "editable": false,
    "nbgrader": {
     "cell_type": "markdown",
     "checksum": "1ee5432075ec30fc1ae053d3ed7571af",
     "grade": false,
     "grade_id": "cell-q2ddce46",
     "locked": true,
     "schema_version": 3,
     "solution": false,
     "task": false
    }
   },
   "source": [
    "Check your answer by running the cell below."
   ]
  },
  {
   "cell_type": "code",
   "execution_count": 165,
   "metadata": {
    "deletable": false,
    "editable": false,
    "nbgrader": {
     "cell_type": "code",
     "checksum": "e51e6b24ab06b3cd97b55ae4f02cc828",
     "grade": true,
     "grade_id": "cell-8f432c8accccdef3",
     "locked": true,
     "points": 0,
     "schema_version": 3,
     "solution": false,
     "task": false
    }
   },
   "outputs": [
    {
     "name": "stdout",
     "output_type": "stream",
     "text": [
      "Testing: Success!\n"
     ]
    }
   ],
   "source": [
    "answers.test_10(frame)"
   ]
  },
  {
   "cell_type": "markdown",
   "metadata": {
    "deletable": false,
    "editable": false,
    "nbgrader": {
     "cell_type": "markdown",
     "checksum": "d7a52b9935d7dfe0a472e04abbf673cf",
     "grade": false,
     "grade_id": "cell-6b49bad5c5897d93",
     "locked": true,
     "schema_version": 3,
     "solution": false,
     "task": false
    }
   },
   "source": [
    "## Missing values\n",
    "\n",
    "Read about [Handling Missing Data](https://jakevdp.github.io/PythonDataScienceHandbook/03.04-missing-values.html)\n",
    "\n",
    "### Exercise 11\n",
    "\n",
    "In the `Series` `speeds` below, fill in the missing values. Use the speed from the previous datapoint available that is up to 3 datapoints away. Delete any datapoints that still do not have values afterwards."
   ]
  },
  {
   "cell_type": "code",
   "execution_count": 175,
   "metadata": {
    "deletable": false,
    "nbgrader": {
     "cell_type": "code",
     "checksum": "de23a2446d30509b50138605942f7678",
     "grade": false,
     "grade_id": "cell-b3792dcee9520460",
     "locked": false,
     "schema_version": 3,
     "solution": true,
     "task": false
    }
   },
   "outputs": [
    {
     "data": {
      "text/plain": [
       "0     49.0\n",
       "1     51.0\n",
       "2     51.0\n",
       "3     51.0\n",
       "4     50.0\n",
       "5     48.0\n",
       "6     47.0\n",
       "7     50.0\n",
       "8     51.0\n",
       "9     47.0\n",
       "10    46.0\n",
       "11    46.0\n",
       "12    46.0\n",
       "13    48.0\n",
       "14    48.0\n",
       "15    48.0\n",
       "16    48.0\n",
       "17    49.0\n",
       "18    49.0\n",
       "19    49.0\n",
       "20    49.0\n",
       "23    50.0\n",
       "24    50.0\n",
       "25    50.0\n",
       "26    51.0\n",
       "27    52.0\n",
       "28    51.0\n",
       "29    50.0\n",
       "30    50.0\n",
       "31    50.0\n",
       "32    50.0\n",
       "33    50.0\n",
       "34    50.0\n",
       "37    50.0\n",
       "38    49.0\n",
       "39    48.0\n",
       "40    49.0\n",
       "41    49.0\n",
       "42    50.0\n",
       "43    50.0\n",
       "44    49.0\n",
       "dtype: float64"
      ]
     },
     "metadata": {},
     "output_type": "display_data"
    }
   ],
   "source": [
    "speeds = Series(\n",
    "         [49, 51, None, None, 50, 48, 47, 50,\n",
    "          51, 47, 46, None, 46, 48, 48, 48,\n",
    "          None, 49, None, None, None, None,\n",
    "          None, 50, 50, 50, 51, 52, 51, 50,\n",
    "          None, 50, None, None, None, None,\n",
    "          None, 50, 49, 48, 49, None, 50, 50, 49])\n",
    "\n",
    "# your code here\n",
    "speeds = speeds.fillna(method='ffill', limit=3)\n",
    "speeds = speeds.dropna()\n",
    "\n",
    "display(speeds)"
   ]
  },
  {
   "cell_type": "markdown",
   "metadata": {
    "deletable": false,
    "editable": false,
    "nbgrader": {
     "cell_type": "markdown",
     "checksum": "393234321e149728371f30415e43a50a",
     "grade": false,
     "grade_id": "cell-fsdffdsaa",
     "locked": true,
     "schema_version": 3,
     "solution": false,
     "task": false
    }
   },
   "source": [
    "Check your answer by running the cell below."
   ]
  },
  {
   "cell_type": "code",
   "execution_count": 176,
   "metadata": {
    "deletable": false,
    "editable": false,
    "nbgrader": {
     "cell_type": "code",
     "checksum": "911334c741e72f206844640b4b82396d",
     "grade": true,
     "grade_id": "cell-bb118106c1321864",
     "locked": true,
     "points": 0,
     "schema_version": 3,
     "solution": false,
     "task": false
    }
   },
   "outputs": [
    {
     "name": "stdout",
     "output_type": "stream",
     "text": [
      "Testing: Success!\n"
     ]
    }
   ],
   "source": [
    "answers.test_11(speeds)"
   ]
  },
  {
   "cell_type": "markdown",
   "metadata": {
    "deletable": false,
    "editable": false,
    "nbgrader": {
     "cell_type": "markdown",
     "checksum": "a8141eb2070b3094620a40eadbb9e851",
     "grade": false,
     "grade_id": "cell-cb4ec429ecec6181",
     "locked": true,
     "schema_version": 3,
     "solution": false,
     "task": false
    }
   },
   "source": [
    "# Grouping\n",
    "\n",
    "Read about [grouping data](https://jakevdp.github.io/PythonDataScienceHandbook/03.08-aggregation-and-grouping.html).\n",
    "\n",
    "### Exercise 12\n",
    "\n",
    "Given the `grades` DataFrame below, group the data the course name. Do the following:\n",
    "\n",
    "- Create a grouping called `groups`.\n",
    "- Use a `for` loop to loop over the content of `groups`. Print the name and content of each group.\n",
    "- Generate a `Series` called `average_course_grade` containing the average grade for both courses.\n",
    "- Generate a `Series` called `student_count` containing the total number of students for both courses."
   ]
  },
  {
   "cell_type": "code",
   "execution_count": 237,
   "metadata": {
    "deletable": false,
    "nbgrader": {
     "cell_type": "code",
     "checksum": "59eb6b58928b6c0492f2aaa23c582036",
     "grade": false,
     "grade_id": "cell-1f1399d0184cd068",
     "locked": false,
     "schema_version": 3,
     "solution": true,
     "task": false
    }
   },
   "outputs": [
    {
     "data": {
      "text/html": [
       "<div>\n",
       "<style scoped>\n",
       "    .dataframe tbody tr th:only-of-type {\n",
       "        vertical-align: middle;\n",
       "    }\n",
       "\n",
       "    .dataframe tbody tr th {\n",
       "        vertical-align: top;\n",
       "    }\n",
       "\n",
       "    .dataframe thead th {\n",
       "        text-align: right;\n",
       "    }\n",
       "</style>\n",
       "<table border=\"1\" class=\"dataframe\">\n",
       "  <thead>\n",
       "    <tr style=\"text-align: right;\">\n",
       "      <th></th>\n",
       "      <th>student_name</th>\n",
       "      <th>course_name</th>\n",
       "      <th>grade</th>\n",
       "    </tr>\n",
       "  </thead>\n",
       "  <tbody>\n",
       "    <tr>\n",
       "      <th>0</th>\n",
       "      <td>Pascal</td>\n",
       "      <td>Programming 2</td>\n",
       "      <td>7.0</td>\n",
       "    </tr>\n",
       "    <tr>\n",
       "      <th>1</th>\n",
       "      <td>Morty</td>\n",
       "      <td>Programming 1</td>\n",
       "      <td>5.5</td>\n",
       "    </tr>\n",
       "    <tr>\n",
       "      <th>2</th>\n",
       "      <td>Slartibartfast</td>\n",
       "      <td>Programming 1</td>\n",
       "      <td>6.5</td>\n",
       "    </tr>\n",
       "    <tr>\n",
       "      <th>3</th>\n",
       "      <td>Ursula</td>\n",
       "      <td>Programming 1</td>\n",
       "      <td>9.5</td>\n",
       "    </tr>\n",
       "    <tr>\n",
       "      <th>4</th>\n",
       "      <td>Morty</td>\n",
       "      <td>Programming 2</td>\n",
       "      <td>3.5</td>\n",
       "    </tr>\n",
       "    <tr>\n",
       "      <th>5</th>\n",
       "      <td>Marge</td>\n",
       "      <td>Programming 1</td>\n",
       "      <td>8.0</td>\n",
       "    </tr>\n",
       "    <tr>\n",
       "      <th>6</th>\n",
       "      <td>Ursula</td>\n",
       "      <td>Programming 2</td>\n",
       "      <td>9.0</td>\n",
       "    </tr>\n",
       "  </tbody>\n",
       "</table>\n",
       "</div>"
      ],
      "text/plain": [
       "     student_name    course_name  grade\n",
       "0          Pascal  Programming 2    7.0\n",
       "1           Morty  Programming 1    5.5\n",
       "2  Slartibartfast  Programming 1    6.5\n",
       "3          Ursula  Programming 1    9.5\n",
       "4           Morty  Programming 2    3.5\n",
       "5           Marge  Programming 1    8.0\n",
       "6          Ursula  Programming 2    9.0"
      ]
     },
     "metadata": {},
     "output_type": "display_data"
    },
    {
     "name": "stdout",
     "output_type": "stream",
     "text": [
      "     student_name    course_name  grade\n",
      "1           Morty  Programming 1    5.5\n",
      "2  Slartibartfast  Programming 1    6.5\n",
      "3          Ursula  Programming 1    9.5\n",
      "5           Marge  Programming 1    8.0 Programming 1\n",
      "  student_name    course_name  grade\n",
      "0       Pascal  Programming 2    7.0\n",
      "4        Morty  Programming 2    3.5\n",
      "6       Ursula  Programming 2    9.0 Programming 2\n"
     ]
    },
    {
     "data": {
      "text/plain": [
       "course_name\n",
       "Programming 1    7.375\n",
       "Programming 2    6.500\n",
       "Name: grade, dtype: float64"
      ]
     },
     "metadata": {},
     "output_type": "display_data"
    },
    {
     "data": {
      "text/plain": [
       "course_name\n",
       "Programming 1    4\n",
       "Programming 2    3\n",
       "Name: course_name, dtype: int64"
      ]
     },
     "metadata": {},
     "output_type": "display_data"
    }
   ],
   "source": [
    "grades = pd.DataFrame([[\"Pascal\", \"Programming 2\", 7.0], [\"Morty\", \"Programming 1\", 5.5], \n",
    "                       [\"Slartibartfast\", \"Programming 1\", 6.5], [\"Ursula\", \"Programming 1\", 9.5],\n",
    "                       [\"Morty\", \"Programming 2\", 3.5], [\"Marge\", \"Programming 1\", 8.0],\n",
    "                       [\"Ursula\", \"Programming 2\", 9.0]], \n",
    "                       columns = [\"student_name\", \"course_name\", \"grade\"])\n",
    "                      \n",
    "# your code here\n",
    "display(grades)\n",
    "groups = grades.groupby('course_name')\n",
    "# display(groups)\n",
    "for course_name, grade in groups:\n",
    "    print(grade, course_name)\n",
    "\n",
    "average_course_grade = pd.Series(grades.groupby('course_name')['grade'].mean())\n",
    "student_count = pd.Series(grades.groupby('course_name')['course_name'].count())\n",
    "\n",
    "display(average_course_grade)\n",
    "display(student_count)"
   ]
  },
  {
   "cell_type": "markdown",
   "metadata": {
    "deletable": false,
    "editable": false,
    "nbgrader": {
     "cell_type": "markdown",
     "checksum": "32b1961877a9742c4626684bd2603b80",
     "grade": false,
     "grade_id": "cell-a4ba222a8e8e1017",
     "locked": true,
     "schema_version": 3,
     "solution": false,
     "task": false
    }
   },
   "source": [
    "Check your answer by running the cell below."
   ]
  },
  {
   "cell_type": "code",
   "execution_count": 238,
   "metadata": {
    "deletable": false,
    "editable": false,
    "nbgrader": {
     "cell_type": "code",
     "checksum": "9ec4535c4bc0ab49abb28b66f4c6513b",
     "grade": true,
     "grade_id": "cell-0c025948f6b918d6",
     "locked": true,
     "points": 0,
     "schema_version": 3,
     "solution": false,
     "task": false
    }
   },
   "outputs": [
    {
     "name": "stdout",
     "output_type": "stream",
     "text": [
      "Testing: Success!\n"
     ]
    }
   ],
   "source": [
    "answers.test_12(average_course_grade, student_count)"
   ]
  },
  {
   "cell_type": "markdown",
   "metadata": {
    "deletable": false,
    "editable": false,
    "nbgrader": {
     "cell_type": "markdown",
     "checksum": "ab2dee469bbd372cd94c6e269819420e",
     "grade": false,
     "grade_id": "cell-836720243361471e",
     "locked": true,
     "schema_version": 3,
     "solution": false,
     "task": false
    }
   },
   "source": [
    "You kan also use the `head(n)` method as an agregate function similar to `count()` or `mean()`. IT will yield the first `n` entries for each group. Read more about [groupby + head](https://pandas.pydata.org/pandas-docs/stable/reference/api/pandas.core.groupby.GroupBy.head.html).\n",
    "\n",
    "### Exercise 13\n",
    "\n",
    "Use `groupby` and `head` to select the **top two students** of each course of the `grades` DataFrame from above. Store the result in `top_students`.\n",
    "\n",
    "The result should look like this: \n",
    "\n",
    "      student_name    course_name  grade\n",
    "    3       Ursula  Programming 1    9.5\n",
    "    6       Ursula  Programming 2    9.0\n",
    "    5        Marge  Programming 1    8.0\n",
    "    1        Morty  Programming 2    5.5\n",
    "\n",
    "> Tip: you might have to sort the values of the `grades` DataFrame first."
   ]
  },
  {
   "cell_type": "code",
   "execution_count": 245,
   "metadata": {
    "deletable": false,
    "nbgrader": {
     "cell_type": "code",
     "checksum": "86723059f85a096d9284efb5da5d386a",
     "grade": false,
     "grade_id": "cell-59553ba3058941ed",
     "locked": false,
     "schema_version": 3,
     "solution": true,
     "task": false
    }
   },
   "outputs": [
    {
     "name": "stderr",
     "output_type": "stream",
     "text": [
      "/tmp/ipykernel_13946/834471538.py:3: FutureWarning: Indexing with multiple keys (implicitly converted to a tuple of keys) will be deprecated, use a list instead.\n",
      "  top_students = grades.groupby('course_name')['student_name', 'course_name', 'grade'].head(n=2)\n"
     ]
    },
    {
     "data": {
      "text/html": [
       "<div>\n",
       "<style scoped>\n",
       "    .dataframe tbody tr th:only-of-type {\n",
       "        vertical-align: middle;\n",
       "    }\n",
       "\n",
       "    .dataframe tbody tr th {\n",
       "        vertical-align: top;\n",
       "    }\n",
       "\n",
       "    .dataframe thead th {\n",
       "        text-align: right;\n",
       "    }\n",
       "</style>\n",
       "<table border=\"1\" class=\"dataframe\">\n",
       "  <thead>\n",
       "    <tr style=\"text-align: right;\">\n",
       "      <th></th>\n",
       "      <th>student_name</th>\n",
       "      <th>course_name</th>\n",
       "      <th>grade</th>\n",
       "    </tr>\n",
       "  </thead>\n",
       "  <tbody>\n",
       "    <tr>\n",
       "      <th>3</th>\n",
       "      <td>Ursula</td>\n",
       "      <td>Programming 1</td>\n",
       "      <td>9.5</td>\n",
       "    </tr>\n",
       "    <tr>\n",
       "      <th>6</th>\n",
       "      <td>Ursula</td>\n",
       "      <td>Programming 2</td>\n",
       "      <td>9.0</td>\n",
       "    </tr>\n",
       "    <tr>\n",
       "      <th>5</th>\n",
       "      <td>Marge</td>\n",
       "      <td>Programming 1</td>\n",
       "      <td>8.0</td>\n",
       "    </tr>\n",
       "    <tr>\n",
       "      <th>0</th>\n",
       "      <td>Pascal</td>\n",
       "      <td>Programming 2</td>\n",
       "      <td>7.0</td>\n",
       "    </tr>\n",
       "  </tbody>\n",
       "</table>\n",
       "</div>"
      ],
      "text/plain": [
       "  student_name    course_name  grade\n",
       "3       Ursula  Programming 1    9.5\n",
       "6       Ursula  Programming 2    9.0\n",
       "5        Marge  Programming 1    8.0\n",
       "0       Pascal  Programming 2    7.0"
      ]
     },
     "metadata": {},
     "output_type": "display_data"
    }
   ],
   "source": [
    "# your code here\n",
    "grades = grades.sort_values(by='grade', ascending=False)\n",
    "top_students = grades.groupby('course_name')['student_name', 'course_name', 'grade'].head(n=2)\n",
    "\n",
    "display(top_students)"
   ]
  },
  {
   "cell_type": "markdown",
   "metadata": {
    "deletable": false,
    "editable": false,
    "nbgrader": {
     "cell_type": "markdown",
     "checksum": "862c4f0b33536afbbfe2f4069ef92f41",
     "grade": false,
     "grade_id": "cell-5c624b097aed3ade",
     "locked": true,
     "schema_version": 3,
     "solution": false,
     "task": false
    }
   },
   "source": [
    "Check your answer by running the cell below."
   ]
  },
  {
   "cell_type": "code",
   "execution_count": 246,
   "metadata": {
    "deletable": false,
    "editable": false,
    "nbgrader": {
     "cell_type": "code",
     "checksum": "21b5ab244af9134b000f68e605871c01",
     "grade": true,
     "grade_id": "cell-6a5445939765ef43",
     "locked": true,
     "points": 0,
     "schema_version": 3,
     "solution": false,
     "task": false
    }
   },
   "outputs": [
    {
     "name": "stdout",
     "output_type": "stream",
     "text": [
      "Testing: Success!\n"
     ]
    }
   ],
   "source": [
    "answers.test_13(top_students)"
   ]
  },
  {
   "cell_type": "markdown",
   "metadata": {
    "deletable": false,
    "editable": false,
    "nbgrader": {
     "cell_type": "markdown",
     "checksum": "37f024693a4ab63dee95f3605e9349f0",
     "grade": false,
     "grade_id": "cell-1fe5f4c676dc4ae5",
     "locked": true,
     "schema_version": 3,
     "solution": false,
     "task": false
    }
   },
   "source": [
    "## Pivot\n",
    "\n",
    "Read about [pivot tables](https://jakevdp.github.io/PythonDataScienceHandbook/03.09-pivot-tables.html).\n",
    "\n",
    "### Exercise 14\n",
    "\n",
    "Based on the `grades` DataFrame from previous exercises. Create a pivot table called `pivot_grades` that has the student names as rows and the course names as columns. The values in the table should be the grades of the corresponding combination of student and course. When the students only got a grade for one of the two courses, `pivot_table` should autmatically assign the value `NaN`. This is ok, you can leave this."
   ]
  },
  {
   "cell_type": "code",
   "execution_count": 248,
   "metadata": {
    "deletable": false,
    "nbgrader": {
     "cell_type": "code",
     "checksum": "b7ef7cc16ca1b1350060b3906062fd0d",
     "grade": false,
     "grade_id": "cell-9c76e2d7a9ba1153",
     "locked": false,
     "schema_version": 3,
     "solution": true,
     "task": false
    }
   },
   "outputs": [
    {
     "data": {
      "text/html": [
       "<div>\n",
       "<style scoped>\n",
       "    .dataframe tbody tr th:only-of-type {\n",
       "        vertical-align: middle;\n",
       "    }\n",
       "\n",
       "    .dataframe tbody tr th {\n",
       "        vertical-align: top;\n",
       "    }\n",
       "\n",
       "    .dataframe thead th {\n",
       "        text-align: right;\n",
       "    }\n",
       "</style>\n",
       "<table border=\"1\" class=\"dataframe\">\n",
       "  <thead>\n",
       "    <tr style=\"text-align: right;\">\n",
       "      <th>course_name</th>\n",
       "      <th>Programming 1</th>\n",
       "      <th>Programming 2</th>\n",
       "    </tr>\n",
       "    <tr>\n",
       "      <th>student_name</th>\n",
       "      <th></th>\n",
       "      <th></th>\n",
       "    </tr>\n",
       "  </thead>\n",
       "  <tbody>\n",
       "    <tr>\n",
       "      <th>Marge</th>\n",
       "      <td>8.0</td>\n",
       "      <td>NaN</td>\n",
       "    </tr>\n",
       "    <tr>\n",
       "      <th>Morty</th>\n",
       "      <td>5.5</td>\n",
       "      <td>3.5</td>\n",
       "    </tr>\n",
       "    <tr>\n",
       "      <th>Pascal</th>\n",
       "      <td>NaN</td>\n",
       "      <td>7.0</td>\n",
       "    </tr>\n",
       "    <tr>\n",
       "      <th>Slartibartfast</th>\n",
       "      <td>6.5</td>\n",
       "      <td>NaN</td>\n",
       "    </tr>\n",
       "    <tr>\n",
       "      <th>Ursula</th>\n",
       "      <td>9.5</td>\n",
       "      <td>9.0</td>\n",
       "    </tr>\n",
       "  </tbody>\n",
       "</table>\n",
       "</div>"
      ],
      "text/plain": [
       "course_name     Programming 1  Programming 2\n",
       "student_name                                \n",
       "Marge                     8.0            NaN\n",
       "Morty                     5.5            3.5\n",
       "Pascal                    NaN            7.0\n",
       "Slartibartfast            6.5            NaN\n",
       "Ursula                    9.5            9.0"
      ]
     },
     "metadata": {},
     "output_type": "display_data"
    }
   ],
   "source": [
    "# your code here\n",
    "pivot_grades = grades.pivot_table('grade', 'student_name', 'course_name')\n",
    "display(pivot_grades)"
   ]
  },
  {
   "cell_type": "markdown",
   "metadata": {
    "deletable": false,
    "editable": false,
    "nbgrader": {
     "cell_type": "markdown",
     "checksum": "11f6d37f17c5ef8a06747b5361028bd8",
     "grade": false,
     "grade_id": "cell-b4c23c896f3d39cf",
     "locked": true,
     "schema_version": 3,
     "solution": false,
     "task": false
    }
   },
   "source": [
    "Check your answer by running the cell below."
   ]
  },
  {
   "cell_type": "code",
   "execution_count": 249,
   "metadata": {
    "deletable": false,
    "editable": false,
    "nbgrader": {
     "cell_type": "code",
     "checksum": "f7fe5e0d841a10b35dacc55f71ef379b",
     "grade": true,
     "grade_id": "cell-cce3d5dbce90f46c",
     "locked": true,
     "points": 0,
     "schema_version": 3,
     "solution": false,
     "task": false
    }
   },
   "outputs": [
    {
     "name": "stdout",
     "output_type": "stream",
     "text": [
      "Testing: Success!\n"
     ]
    }
   ],
   "source": [
    "answers.test_14(pivot_grades)"
   ]
  },
  {
   "cell_type": "markdown",
   "metadata": {
    "deletable": false,
    "editable": false,
    "nbgrader": {
     "cell_type": "markdown",
     "checksum": "e8a9132881cfd52fc252cc3412aff145",
     "grade": false,
     "grade_id": "cell-0cfffb185b982602",
     "locked": true,
     "schema_version": 3,
     "solution": false,
     "task": false
    }
   },
   "source": [
    "## Explode\n",
    "\n",
    "Read about [exploding DataFrames](https://pandas.pydata.org/docs/reference/api/pandas.DataFrame.explode.html).\n",
    "\n",
    "### Exercise 15\n",
    "\n",
    "Create an unnested version of the `movies` DataFrame below. So the result should look like this:\n",
    "\n",
    "                          movie                actors\n",
    "    0            Hababam Sinifi           Kemal Sunal\n",
    "    0            Hababam Sinifi           Münir Özkul\n",
    "    0            Hababam Sinifi        Halit Akçatepe\n",
    "    0            Hababam Sinifi            Tarik Akan\n",
    "    1  The Shawshank Redemption           Tim Robbins\n",
    "    1  The Shawshank Redemption        Morgan Freeman\n",
    "    1  The Shawshank Redemption            Bob Gunton\n",
    "    1  The Shawshank Redemption        William Sadler\n",
    "    2                  Aynabaji    Chanchal Chowdhury\n",
    "    2                  Aynabaji  Masuma Rahman Nabila\n",
    "    2                  Aynabaji    Bijori Barkatullah\n",
    "    2                  Aynabaji          Partha Barua\n",
    "    3             The Godfather         Marlon Brando\n",
    "    3             The Godfather             Al Pacino\n",
    "    3             The Godfather            James Caan\n",
    "    3             The Godfather          Diane Keaton\n",
    "    \n",
    "Store the result in `exploded_actors`"
   ]
  },
  {
   "cell_type": "code",
   "execution_count": 265,
   "metadata": {
    "deletable": false,
    "nbgrader": {
     "cell_type": "code",
     "checksum": "695fba5590eb9c1671957f9c3de426c7",
     "grade": false,
     "grade_id": "cell-381ec17e0a711b33",
     "locked": false,
     "schema_version": 3,
     "solution": true,
     "task": false
    }
   },
   "outputs": [
    {
     "data": {
      "text/html": [
       "<div>\n",
       "<style scoped>\n",
       "    .dataframe tbody tr th:only-of-type {\n",
       "        vertical-align: middle;\n",
       "    }\n",
       "\n",
       "    .dataframe tbody tr th {\n",
       "        vertical-align: top;\n",
       "    }\n",
       "\n",
       "    .dataframe thead th {\n",
       "        text-align: right;\n",
       "    }\n",
       "</style>\n",
       "<table border=\"1\" class=\"dataframe\">\n",
       "  <thead>\n",
       "    <tr style=\"text-align: right;\">\n",
       "      <th></th>\n",
       "      <th>movie</th>\n",
       "      <th>actors</th>\n",
       "    </tr>\n",
       "  </thead>\n",
       "  <tbody>\n",
       "    <tr>\n",
       "      <th>0</th>\n",
       "      <td>Hababam Sinifi</td>\n",
       "      <td>Kemal Sunal</td>\n",
       "    </tr>\n",
       "    <tr>\n",
       "      <th>0</th>\n",
       "      <td>Hababam Sinifi</td>\n",
       "      <td>Münir Özkul</td>\n",
       "    </tr>\n",
       "    <tr>\n",
       "      <th>0</th>\n",
       "      <td>Hababam Sinifi</td>\n",
       "      <td>Halit Akçatepe</td>\n",
       "    </tr>\n",
       "    <tr>\n",
       "      <th>0</th>\n",
       "      <td>Hababam Sinifi</td>\n",
       "      <td>Tarik Akan</td>\n",
       "    </tr>\n",
       "    <tr>\n",
       "      <th>1</th>\n",
       "      <td>The Shawshank Redemption</td>\n",
       "      <td>Tim Robbins</td>\n",
       "    </tr>\n",
       "    <tr>\n",
       "      <th>1</th>\n",
       "      <td>The Shawshank Redemption</td>\n",
       "      <td>Morgan Freeman</td>\n",
       "    </tr>\n",
       "    <tr>\n",
       "      <th>1</th>\n",
       "      <td>The Shawshank Redemption</td>\n",
       "      <td>Bob Gunton</td>\n",
       "    </tr>\n",
       "    <tr>\n",
       "      <th>1</th>\n",
       "      <td>The Shawshank Redemption</td>\n",
       "      <td>William Sadler</td>\n",
       "    </tr>\n",
       "    <tr>\n",
       "      <th>2</th>\n",
       "      <td>Aynabaji</td>\n",
       "      <td>Chanchal Chowdhury</td>\n",
       "    </tr>\n",
       "    <tr>\n",
       "      <th>2</th>\n",
       "      <td>Aynabaji</td>\n",
       "      <td>Masuma Rahman Nabila</td>\n",
       "    </tr>\n",
       "    <tr>\n",
       "      <th>2</th>\n",
       "      <td>Aynabaji</td>\n",
       "      <td>Bijori Barkatullah</td>\n",
       "    </tr>\n",
       "    <tr>\n",
       "      <th>2</th>\n",
       "      <td>Aynabaji</td>\n",
       "      <td>Partha Barua</td>\n",
       "    </tr>\n",
       "    <tr>\n",
       "      <th>3</th>\n",
       "      <td>The Godfather</td>\n",
       "      <td>Marlon Brando</td>\n",
       "    </tr>\n",
       "    <tr>\n",
       "      <th>3</th>\n",
       "      <td>The Godfather</td>\n",
       "      <td>Al Pacino</td>\n",
       "    </tr>\n",
       "    <tr>\n",
       "      <th>3</th>\n",
       "      <td>The Godfather</td>\n",
       "      <td>James Caan</td>\n",
       "    </tr>\n",
       "    <tr>\n",
       "      <th>3</th>\n",
       "      <td>The Godfather</td>\n",
       "      <td>Diane Keaton</td>\n",
       "    </tr>\n",
       "  </tbody>\n",
       "</table>\n",
       "</div>"
      ],
      "text/plain": [
       "                      movie                actors\n",
       "0            Hababam Sinifi           Kemal Sunal\n",
       "0            Hababam Sinifi           Münir Özkul\n",
       "0            Hababam Sinifi        Halit Akçatepe\n",
       "0            Hababam Sinifi            Tarik Akan\n",
       "1  The Shawshank Redemption           Tim Robbins\n",
       "1  The Shawshank Redemption        Morgan Freeman\n",
       "1  The Shawshank Redemption            Bob Gunton\n",
       "1  The Shawshank Redemption        William Sadler\n",
       "2                  Aynabaji    Chanchal Chowdhury\n",
       "2                  Aynabaji  Masuma Rahman Nabila\n",
       "2                  Aynabaji    Bijori Barkatullah\n",
       "2                  Aynabaji          Partha Barua\n",
       "3             The Godfather         Marlon Brando\n",
       "3             The Godfather             Al Pacino\n",
       "3             The Godfather            James Caan\n",
       "3             The Godfather          Diane Keaton"
      ]
     },
     "metadata": {},
     "output_type": "display_data"
    }
   ],
   "source": [
    "movies = pd.DataFrame([[\"Hababam Sinifi\",\n",
    "                           [\"Kemal Sunal\", \"Münir Özkul\", \"Halit Akçatepe\", \"Tarik Akan\"]],\n",
    "                      [\"The Shawshank Redemption\",\n",
    "                           [\"Tim Robbins\", \"Morgan Freeman\", \"Bob Gunton\", \"William Sadler\"]],\n",
    "                      [\"Aynabaji\", \n",
    "                           [\"Chanchal Chowdhury\", \"Masuma Rahman Nabila\", \"Bijori Barkatullah\", \"Partha Barua\"]],\n",
    "                      [\"The Godfather\",\n",
    "                           [\"Marlon Brando\", \"Al Pacino\", \"James Caan\", \"Diane Keaton\"]]],\n",
    "                     columns = [\"movie\", \"actors\"])\n",
    "\n",
    "# your code here\n",
    "exploded_actors = movies.explode('actors')\n",
    "\n",
    "display(exploded_actors)"
   ]
  },
  {
   "cell_type": "markdown",
   "metadata": {
    "deletable": false,
    "editable": false,
    "nbgrader": {
     "cell_type": "markdown",
     "checksum": "74fdf8c7ea647159f89fb3487709f2b4",
     "grade": false,
     "grade_id": "cell-c40fffa18222a6e6",
     "locked": true,
     "schema_version": 3,
     "solution": false,
     "task": false
    }
   },
   "source": [
    "Check your answer by running the cell below."
   ]
  },
  {
   "cell_type": "code",
   "execution_count": 267,
   "metadata": {
    "deletable": false,
    "editable": false,
    "nbgrader": {
     "cell_type": "code",
     "checksum": "4d5e5a15681ca6380ae60e0c92a3a6ed",
     "grade": true,
     "grade_id": "cell-05648167700af824",
     "locked": true,
     "points": 0,
     "schema_version": 3,
     "solution": false,
     "task": false
    }
   },
   "outputs": [],
   "source": [
    "answers.test15(exploded_actors)"
   ]
  },
  {
   "cell_type": "markdown",
   "metadata": {
    "deletable": false,
    "editable": false,
    "nbgrader": {
     "cell_type": "markdown",
     "checksum": "75045a9cec0003a669b828504b684ece",
     "grade": false,
     "grade_id": "cell-0a03d88a33cb49b3",
     "locked": true,
     "schema_version": 3,
     "solution": false,
     "task": false
    }
   },
   "source": [
    "## Reading and writing data \n",
    "\n",
    "Look at how you can [store data as a csv file](https://pandas.pydata.org/docs/reference/api/pandas.DataFrame.to_csv.html).\n",
    "Look at how you can [read the data back](https://pandas.pydata.org/pandas-docs/stable/reference/api/pandas.read_csv.html)."
   ]
  },
  {
   "cell_type": "markdown",
   "metadata": {
    "deletable": false,
    "editable": false,
    "nbgrader": {
     "cell_type": "markdown",
     "checksum": "4050314bd45badc9b80b5df119e3e832",
     "grade": false,
     "grade_id": "cell-6a407ebaa66791d7",
     "locked": true,
     "schema_version": 3,
     "solution": false,
     "task": false
    }
   },
   "source": [
    "### Exercise 16\n",
    "\n",
    "As a final challenge try to see if you can combine the pandas methods `read_csv`, `to_csv`, `map`, `explode`, `sort_values`, `groupby` and `head` for a more complex data transformation.\n",
    "\n",
    "The file `data/recipes.csv` contains a few recipes with their lists of ingredients. The recipes were rated on a scale from 1 to 5 by the users of a food website. The file also contains the average rating of the recipes. The contents:\n",
    "\n",
    "    recipe_name,rating,ingredients\n",
    "    Caprese Salad,4.5,tomato;olive oil;basil;mozzerella\n",
    "    Lasagna,4.8,beef;pork;bacon;onion;celery;carrot;wine;tomato\n",
    "    Beef Bourguignon,4.3,beef;bacon;onion;carrot;celery;flour;garlic;wine\n",
    "    Hamburger,3.8,beef;bacon;letuce;bread;onion;mayo;ketchup;pickle\n",
    "    Lentil Burger,4.0,lemon;lentils;yogurt;garlic;mushrooms;miso;parika;flour;bread;pickles\n",
    "\n",
    "As you can see, the first column is the name, the second column contains the average rating and the third column contains all the ingredients (separated by a semicolon `;`)\n",
    "\n",
    "We want to know for each ingredient, what the **top two recipes** are that contain that ingredient. So, the two recipes with the highest rating containing that ingredient. For example, the top two recipes for *bacon* are *Lasagna* and *Beef Bourguignon*. (*Hamburger* also contains *bacon*, but it's rating is lower than the other two recipes, so we ignore that one.)\n",
    "\n",
    "Write a piece of code that reads the file `data/recipes.csv`, does all the required transformations and produces a file `ingredients.csv` into the `data` folder, containing the information we want. A fragment of the contents of the output file you should produce is shown here:\n",
    "\n",
    "    ingredients,recipe_name\n",
    "    bacon,Lasagna\n",
    "    bacon,Beef Bourguignon\n",
    "    basil,Caprese Salad\n",
    "    beef,Lasagna\n",
    "    beef,Beef Bourguignon\n",
    "    bread,Hamburger\n",
    "    bread,Lentil Burger\n",
    "    carrot,Lasagna\n",
    "    carrot,Beef Bourguignon\n",
    "    ...\n",
    "\n",
    "As you can see, the first two entries are the top two recipes for *bacon*. After that we see only one entry for *basil*, because *basil* occurs in only one recipe. This is okay: If an ingredient only occurs in one recipe, the output should only contain that entry.\n",
    "\n",
    "The output should be sorted by the name of the ingredient."
   ]
  },
  {
   "cell_type": "code",
   "execution_count": 340,
   "metadata": {
    "deletable": false,
    "nbgrader": {
     "cell_type": "code",
     "checksum": "3c26a9b6e9155161f6cb74ed46df5839",
     "grade": false,
     "grade_id": "cell-b65dcbf05342a0cc",
     "locked": false,
     "schema_version": 3,
     "solution": true,
     "task": false
    }
   },
   "outputs": [
    {
     "data": {
      "text/html": [
       "<div>\n",
       "<style scoped>\n",
       "    .dataframe tbody tr th:only-of-type {\n",
       "        vertical-align: middle;\n",
       "    }\n",
       "\n",
       "    .dataframe tbody tr th {\n",
       "        vertical-align: top;\n",
       "    }\n",
       "\n",
       "    .dataframe thead th {\n",
       "        text-align: right;\n",
       "    }\n",
       "</style>\n",
       "<table border=\"1\" class=\"dataframe\">\n",
       "  <thead>\n",
       "    <tr style=\"text-align: right;\">\n",
       "      <th></th>\n",
       "      <th>recipe_name</th>\n",
       "      <th>rating</th>\n",
       "      <th>ingredients</th>\n",
       "    </tr>\n",
       "  </thead>\n",
       "  <tbody>\n",
       "    <tr>\n",
       "      <th>0</th>\n",
       "      <td>Caprese Salad</td>\n",
       "      <td>4.5</td>\n",
       "      <td>[tomato, olive oil, basil, mozzerella]</td>\n",
       "    </tr>\n",
       "    <tr>\n",
       "      <th>1</th>\n",
       "      <td>Lasagna</td>\n",
       "      <td>4.8</td>\n",
       "      <td>[beef, pork, bacon, onion, celery, carrot, win...</td>\n",
       "    </tr>\n",
       "    <tr>\n",
       "      <th>2</th>\n",
       "      <td>Beef Bourguignon</td>\n",
       "      <td>4.3</td>\n",
       "      <td>[beef, bacon, onion, carrot, celery, flour, ga...</td>\n",
       "    </tr>\n",
       "    <tr>\n",
       "      <th>3</th>\n",
       "      <td>Hamburger</td>\n",
       "      <td>3.8</td>\n",
       "      <td>[beef, bacon, letuce, bread, onion, mayo, ketc...</td>\n",
       "    </tr>\n",
       "    <tr>\n",
       "      <th>4</th>\n",
       "      <td>Lentil Burger</td>\n",
       "      <td>4.0</td>\n",
       "      <td>[lemon, lentils, yogurt, garlic, mushrooms, mi...</td>\n",
       "    </tr>\n",
       "  </tbody>\n",
       "</table>\n",
       "</div>"
      ],
      "text/plain": [
       "        recipe_name  rating                                        ingredients\n",
       "0     Caprese Salad     4.5             [tomato, olive oil, basil, mozzerella]\n",
       "1           Lasagna     4.8  [beef, pork, bacon, onion, celery, carrot, win...\n",
       "2  Beef Bourguignon     4.3  [beef, bacon, onion, carrot, celery, flour, ga...\n",
       "3         Hamburger     3.8  [beef, bacon, letuce, bread, onion, mayo, ketc...\n",
       "4     Lentil Burger     4.0  [lemon, lentils, yogurt, garlic, mushrooms, mi..."
      ]
     },
     "metadata": {},
     "output_type": "display_data"
    },
    {
     "name": "stderr",
     "output_type": "stream",
     "text": [
      "/tmp/ipykernel_13946/516948942.py:6: FutureWarning: Indexing with multiple keys (implicitly converted to a tuple of keys) will be deprecated, use a list instead.\n",
      "  recipes = recipes.groupby('ingredients')['ingredients', 'recipe_name'].head(n=2).sort_values('ingredients')\n"
     ]
    },
    {
     "data": {
      "text/html": [
       "<div>\n",
       "<style scoped>\n",
       "    .dataframe tbody tr th:only-of-type {\n",
       "        vertical-align: middle;\n",
       "    }\n",
       "\n",
       "    .dataframe tbody tr th {\n",
       "        vertical-align: top;\n",
       "    }\n",
       "\n",
       "    .dataframe thead th {\n",
       "        text-align: right;\n",
       "    }\n",
       "</style>\n",
       "<table border=\"1\" class=\"dataframe\">\n",
       "  <thead>\n",
       "    <tr style=\"text-align: right;\">\n",
       "      <th></th>\n",
       "      <th>ingredients</th>\n",
       "      <th>recipe_name</th>\n",
       "    </tr>\n",
       "  </thead>\n",
       "  <tbody>\n",
       "    <tr>\n",
       "      <th>2</th>\n",
       "      <td>bacon</td>\n",
       "      <td>Beef Bourguignon</td>\n",
       "    </tr>\n",
       "    <tr>\n",
       "      <th>1</th>\n",
       "      <td>bacon</td>\n",
       "      <td>Lasagna</td>\n",
       "    </tr>\n",
       "    <tr>\n",
       "      <th>0</th>\n",
       "      <td>basil</td>\n",
       "      <td>Caprese Salad</td>\n",
       "    </tr>\n",
       "    <tr>\n",
       "      <th>1</th>\n",
       "      <td>beef</td>\n",
       "      <td>Lasagna</td>\n",
       "    </tr>\n",
       "    <tr>\n",
       "      <th>2</th>\n",
       "      <td>beef</td>\n",
       "      <td>Beef Bourguignon</td>\n",
       "    </tr>\n",
       "    <tr>\n",
       "      <th>3</th>\n",
       "      <td>bread</td>\n",
       "      <td>Hamburger</td>\n",
       "    </tr>\n",
       "    <tr>\n",
       "      <th>4</th>\n",
       "      <td>bread</td>\n",
       "      <td>Lentil Burger</td>\n",
       "    </tr>\n",
       "    <tr>\n",
       "      <th>2</th>\n",
       "      <td>carrot</td>\n",
       "      <td>Beef Bourguignon</td>\n",
       "    </tr>\n",
       "    <tr>\n",
       "      <th>1</th>\n",
       "      <td>carrot</td>\n",
       "      <td>Lasagna</td>\n",
       "    </tr>\n",
       "    <tr>\n",
       "      <th>2</th>\n",
       "      <td>celery</td>\n",
       "      <td>Beef Bourguignon</td>\n",
       "    </tr>\n",
       "    <tr>\n",
       "      <th>1</th>\n",
       "      <td>celery</td>\n",
       "      <td>Lasagna</td>\n",
       "    </tr>\n",
       "    <tr>\n",
       "      <th>2</th>\n",
       "      <td>flour</td>\n",
       "      <td>Beef Bourguignon</td>\n",
       "    </tr>\n",
       "    <tr>\n",
       "      <th>4</th>\n",
       "      <td>flour</td>\n",
       "      <td>Lentil Burger</td>\n",
       "    </tr>\n",
       "    <tr>\n",
       "      <th>2</th>\n",
       "      <td>garlic</td>\n",
       "      <td>Beef Bourguignon</td>\n",
       "    </tr>\n",
       "    <tr>\n",
       "      <th>4</th>\n",
       "      <td>garlic</td>\n",
       "      <td>Lentil Burger</td>\n",
       "    </tr>\n",
       "    <tr>\n",
       "      <th>3</th>\n",
       "      <td>ketchup</td>\n",
       "      <td>Hamburger</td>\n",
       "    </tr>\n",
       "    <tr>\n",
       "      <th>4</th>\n",
       "      <td>lemon</td>\n",
       "      <td>Lentil Burger</td>\n",
       "    </tr>\n",
       "    <tr>\n",
       "      <th>4</th>\n",
       "      <td>lentils</td>\n",
       "      <td>Lentil Burger</td>\n",
       "    </tr>\n",
       "    <tr>\n",
       "      <th>3</th>\n",
       "      <td>letuce</td>\n",
       "      <td>Hamburger</td>\n",
       "    </tr>\n",
       "    <tr>\n",
       "      <th>3</th>\n",
       "      <td>mayo</td>\n",
       "      <td>Hamburger</td>\n",
       "    </tr>\n",
       "    <tr>\n",
       "      <th>4</th>\n",
       "      <td>miso</td>\n",
       "      <td>Lentil Burger</td>\n",
       "    </tr>\n",
       "    <tr>\n",
       "      <th>0</th>\n",
       "      <td>mozzerella</td>\n",
       "      <td>Caprese Salad</td>\n",
       "    </tr>\n",
       "    <tr>\n",
       "      <th>4</th>\n",
       "      <td>mushrooms</td>\n",
       "      <td>Lentil Burger</td>\n",
       "    </tr>\n",
       "    <tr>\n",
       "      <th>0</th>\n",
       "      <td>olive oil</td>\n",
       "      <td>Caprese Salad</td>\n",
       "    </tr>\n",
       "    <tr>\n",
       "      <th>2</th>\n",
       "      <td>onion</td>\n",
       "      <td>Beef Bourguignon</td>\n",
       "    </tr>\n",
       "    <tr>\n",
       "      <th>1</th>\n",
       "      <td>onion</td>\n",
       "      <td>Lasagna</td>\n",
       "    </tr>\n",
       "    <tr>\n",
       "      <th>4</th>\n",
       "      <td>parika</td>\n",
       "      <td>Lentil Burger</td>\n",
       "    </tr>\n",
       "    <tr>\n",
       "      <th>3</th>\n",
       "      <td>pickle</td>\n",
       "      <td>Hamburger</td>\n",
       "    </tr>\n",
       "    <tr>\n",
       "      <th>4</th>\n",
       "      <td>pickles</td>\n",
       "      <td>Lentil Burger</td>\n",
       "    </tr>\n",
       "    <tr>\n",
       "      <th>1</th>\n",
       "      <td>pork</td>\n",
       "      <td>Lasagna</td>\n",
       "    </tr>\n",
       "    <tr>\n",
       "      <th>1</th>\n",
       "      <td>tomato</td>\n",
       "      <td>Lasagna</td>\n",
       "    </tr>\n",
       "    <tr>\n",
       "      <th>0</th>\n",
       "      <td>tomato</td>\n",
       "      <td>Caprese Salad</td>\n",
       "    </tr>\n",
       "    <tr>\n",
       "      <th>2</th>\n",
       "      <td>wine</td>\n",
       "      <td>Beef Bourguignon</td>\n",
       "    </tr>\n",
       "    <tr>\n",
       "      <th>1</th>\n",
       "      <td>wine</td>\n",
       "      <td>Lasagna</td>\n",
       "    </tr>\n",
       "    <tr>\n",
       "      <th>4</th>\n",
       "      <td>yogurt</td>\n",
       "      <td>Lentil Burger</td>\n",
       "    </tr>\n",
       "  </tbody>\n",
       "</table>\n",
       "</div>"
      ],
      "text/plain": [
       "  ingredients       recipe_name\n",
       "2       bacon  Beef Bourguignon\n",
       "1       bacon           Lasagna\n",
       "0       basil     Caprese Salad\n",
       "1        beef           Lasagna\n",
       "2        beef  Beef Bourguignon\n",
       "3       bread         Hamburger\n",
       "4       bread     Lentil Burger\n",
       "2      carrot  Beef Bourguignon\n",
       "1      carrot           Lasagna\n",
       "2      celery  Beef Bourguignon\n",
       "1      celery           Lasagna\n",
       "2       flour  Beef Bourguignon\n",
       "4       flour     Lentil Burger\n",
       "2      garlic  Beef Bourguignon\n",
       "4      garlic     Lentil Burger\n",
       "3     ketchup         Hamburger\n",
       "4       lemon     Lentil Burger\n",
       "4     lentils     Lentil Burger\n",
       "3      letuce         Hamburger\n",
       "3        mayo         Hamburger\n",
       "4        miso     Lentil Burger\n",
       "0  mozzerella     Caprese Salad\n",
       "4   mushrooms     Lentil Burger\n",
       "0   olive oil     Caprese Salad\n",
       "2       onion  Beef Bourguignon\n",
       "1       onion           Lasagna\n",
       "4      parika     Lentil Burger\n",
       "3      pickle         Hamburger\n",
       "4     pickles     Lentil Burger\n",
       "1        pork           Lasagna\n",
       "1      tomato           Lasagna\n",
       "0      tomato     Caprese Salad\n",
       "2        wine  Beef Bourguignon\n",
       "1        wine           Lasagna\n",
       "4      yogurt     Lentil Burger"
      ]
     },
     "metadata": {},
     "output_type": "display_data"
    },
    {
     "data": {
      "text/plain": [
       "'ingredients,recipe_name\\nbacon,Beef Bourguignon\\nbacon,Lasagna\\nbasil,Caprese Salad\\nbeef,Lasagna\\nbeef,Beef Bourguignon\\nbread,Hamburger\\nbread,Lentil Burger\\ncarrot,Beef Bourguignon\\ncarrot,Lasagna\\ncelery,Beef Bourguignon\\ncelery,Lasagna\\nflour,Beef Bourguignon\\nflour,Lentil Burger\\ngarlic,Beef Bourguignon\\ngarlic,Lentil Burger\\nketchup,Hamburger\\nlemon,Lentil Burger\\nlentils,Lentil Burger\\nletuce,Hamburger\\nmayo,Hamburger\\nmiso,Lentil Burger\\nmozzerella,Caprese Salad\\nmushrooms,Lentil Burger\\nolive oil,Caprese Salad\\nonion,Beef Bourguignon\\nonion,Lasagna\\nparika,Lentil Burger\\npickle,Hamburger\\npickles,Lentil Burger\\npork,Lasagna\\ntomato,Lasagna\\ntomato,Caprese Salad\\nwine,Beef Bourguignon\\nwine,Lasagna\\nyogurt,Lentil Burger\\n'"
      ]
     },
     "execution_count": 340,
     "metadata": {},
     "output_type": "execute_result"
    }
   ],
   "source": [
    "# your code here\n",
    "recipes = pd.read_csv('data/recipes.csv')\n",
    "recipes['ingredients'] = recipes['ingredients'].str.split(pat=';')\n",
    "display(recipes)\n",
    "recipes = recipes.explode('ingredients')\n",
    "recipes = recipes.groupby('ingredients')['ingredients', 'recipe_name'].head(n=2).sort_values('ingredients')\n",
    "display(recipes)\n",
    "recipes.to_csv(index=False, line_terminator='\\n')\n"
   ]
  },
  {
   "cell_type": "markdown",
   "metadata": {
    "deletable": false,
    "editable": false,
    "nbgrader": {
     "cell_type": "markdown",
     "checksum": "6f8efaa9b32c9e39e00344e7eb837bd5",
     "grade": false,
     "grade_id": "cell-5cf9de3a04e7c68b",
     "locked": true,
     "schema_version": 3,
     "solution": false,
     "task": false
    }
   },
   "source": [
    "Check your answer by running the cell below."
   ]
  },
  {
   "cell_type": "code",
   "execution_count": 341,
   "metadata": {
    "deletable": false,
    "editable": false,
    "nbgrader": {
     "cell_type": "code",
     "checksum": "d5cd235a415c99fd230a0255a048d750",
     "grade": true,
     "grade_id": "cell-74bdfc579cbc9fa0",
     "locked": true,
     "points": 0,
     "schema_version": 3,
     "solution": false,
     "task": false
    }
   },
   "outputs": [
    {
     "name": "stdout",
     "output_type": "stream",
     "text": [
      "Testing: Success!\n"
     ]
    }
   ],
   "source": [
    "answers.test_16()"
   ]
  },
  {
   "cell_type": "code",
   "execution_count": null,
   "metadata": {},
   "outputs": [],
   "source": []
  }
 ],
 "metadata": {
  "kernelspec": {
   "display_name": "Python 3 (ipykernel)",
   "language": "python",
   "name": "python3"
  },
  "language_info": {
   "codemirror_mode": {
    "name": "ipython",
    "version": 3
   },
   "file_extension": ".py",
   "mimetype": "text/x-python",
   "name": "python",
   "nbconvert_exporter": "python",
   "pygments_lexer": "ipython3",
   "version": "3.8.10"
  }
 },
 "nbformat": 4,
 "nbformat_minor": 2
}
